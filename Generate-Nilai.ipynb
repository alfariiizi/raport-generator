{
 "cells": [
  {
   "cell_type": "code",
   "execution_count": 3,
   "metadata": {},
   "outputs": [],
   "source": [
    "from RaportGenerator import *"
   ]
  },
  {
   "cell_type": "code",
   "execution_count": 4,
   "metadata": {},
   "outputs": [],
   "source": [
    "pengetahuan_path = 'Pengetahuan'\n",
    "keterampilan_path = 'Keterampilan'"
   ]
  },
  {
   "cell_type": "markdown",
   "metadata": {},
   "source": [
    "## XI MIPA 1"
   ]
  },
  {
   "cell_type": "code",
   "execution_count": 13,
   "metadata": {},
   "outputs": [],
   "source": [
    "class_name = 'XI MIPA 1'  # Ubah - ubah aja variabel ini sesuai nama kelas nya (Dengan asumsi nama file nya juga sesuai, misal: XI MIPA 1.csv)\n",
    "# peng_cols = 10\n",
    "ket_cols = 9\n",
    "\n",
    "# peng_raport = RaportGenerator(f'{pengetahuan_path}/{class_name}.csv', peng_cols)\n",
    "# peng_raport.save_as_csv(f'{pengetahuan_path} {class_name}')\n",
    "ket_raport = RaportGenerator(f'{keterampilan_path}/{class_name}.csv', ket_cols)\n",
    "ket_raport.save_as_csv(f'{keterampilan_path} {class_name}')"
   ]
  },
  {
   "cell_type": "markdown",
   "metadata": {},
   "source": [
    "## XI MIPA 2"
   ]
  },
  {
   "cell_type": "code",
   "execution_count": 14,
   "metadata": {},
   "outputs": [],
   "source": [
    "class_name = 'XI MIPA 2'  # Ubah - ubah aja variabel ini sesuai nama kelas nya (Dengan asumsi nama file nya juga sesuai, misal: XI MIPA 1.csv)\n",
    "peng_cols = 10\n",
    "ket_cols = 9\n",
    "\n",
    "# peng_raport = RaportGenerator(f'{pengetahuan_path}/{class_name}.csv', peng_cols)\n",
    "# peng_raport.save_as_csv(f'{pengetahuan_path} {class_name}')\n",
    "ket_raport = RaportGenerator(f'{keterampilan_path}/{class_name}.csv', ket_cols)\n",
    "ket_raport.save_as_csv(f'{keterampilan_path} {class_name}')"
   ]
  },
  {
   "cell_type": "markdown",
   "metadata": {},
   "source": [
    "## XI MIPA 3"
   ]
  },
  {
   "cell_type": "code",
   "execution_count": 15,
   "metadata": {},
   "outputs": [],
   "source": [
    "class_name = 'XI MIPA 3'  # Ubah - ubah aja variabel ini sesuai nama kelas nya (Dengan asumsi nama file nya juga sesuai, misal: XI MIPA 1.csv)\n",
    "peng_cols = 10\n",
    "ket_cols = 9\n",
    "\n",
    "# peng_raport = RaportGenerator(f'{pengetahuan_path}/{class_name}.csv', peng_cols)\n",
    "# peng_raport.save_as_csv(f'{pengetahuan_path} {class_name}')\n",
    "ket_raport = RaportGenerator(f'{keterampilan_path}/{class_name}.csv', ket_cols)\n",
    "ket_raport.save_as_csv(f'{keterampilan_path} {class_name}')"
   ]
  },
  {
   "cell_type": "markdown",
   "metadata": {},
   "source": [
    "## XI MIPA 4"
   ]
  },
  {
   "cell_type": "code",
   "execution_count": 16,
   "metadata": {},
   "outputs": [],
   "source": [
    "class_name = 'XI MIPA 4'  # Ubah - ubah aja variabel ini sesuai nama kelas nya (Dengan asumsi nama file nya juga sesuai, misal: XI MIPA 1.csv)\n",
    "peng_cols = 10\n",
    "ket_cols = 9\n",
    "\n",
    "# peng_raport = RaportGenerator(f'{pengetahuan_path}/{class_name}.csv', peng_cols)\n",
    "# peng_raport.save_as_csv(f'{pengetahuan_path} {class_name}')\n",
    "ket_raport = RaportGenerator(f'{keterampilan_path}/{class_name}.csv', ket_cols)\n",
    "ket_raport.save_as_csv(f'{keterampilan_path} {class_name}')"
   ]
  },
  {
   "cell_type": "markdown",
   "metadata": {},
   "source": [
    "## XI MIPA 5"
   ]
  },
  {
   "cell_type": "code",
   "execution_count": 17,
   "metadata": {},
   "outputs": [],
   "source": [
    "class_name = 'XI MIPA 5'  # Ubah - ubah aja variabel ini sesuai nama kelas nya (Dengan asumsi nama file nya juga sesuai, misal: XI MIPA 1.csv)\n",
    "peng_cols = 10\n",
    "ket_cols = 9\n",
    "\n",
    "# peng_raport = RaportGenerator(f'{pengetahuan_path}/{class_name}.csv', peng_cols)\n",
    "# peng_raport.save_as_csv(f'{pengetahuan_path} {class_name}')\n",
    "ket_raport = RaportGenerator(f'{keterampilan_path}/{class_name}.csv', ket_cols)\n",
    "ket_raport.save_as_csv(f'{keterampilan_path} {class_name}')"
   ]
  },
  {
   "cell_type": "markdown",
   "metadata": {},
   "source": [
    "# XII"
   ]
  },
  {
   "cell_type": "markdown",
   "metadata": {},
   "source": [
    "## XII IPS 1"
   ]
  },
  {
   "cell_type": "code",
   "execution_count": 3,
   "metadata": {},
   "outputs": [],
   "source": [
    "class_name = 'XII IPS 1'  # Ubah - ubah aja variabel ini sesuai nama kelas nya (Dengan asumsi nama file nya juga sesuai, misal: XI MIPA 1.csv)\n",
    "peng_cols = 4\n",
    "ket_cols = 3\n",
    "\n",
    "peng_raport = RaportGenerator(f'{pengetahuan_path}/{class_name}.csv', peng_cols)\n",
    "peng_raport.save_as_csv(f'{pengetahuan_path} {class_name}')\n",
    "ket_raport = RaportGenerator(f'{keterampilan_path}/{class_name}.csv', ket_cols)\n",
    "ket_raport.save_as_csv(f'{keterampilan_path} {class_name}')"
   ]
  },
  {
   "cell_type": "markdown",
   "metadata": {},
   "source": [
    "## XII IPS 2"
   ]
  },
  {
   "cell_type": "code",
   "execution_count": 4,
   "metadata": {},
   "outputs": [],
   "source": [
    "class_name = 'XII IPS 2'  # Ubah - ubah aja variabel ini sesuai nama kelas nya (Dengan asumsi nama file nya juga sesuai, misal: XI MIPA 1.csv)\n",
    "peng_cols = 4\n",
    "ket_cols = 3\n",
    "\n",
    "peng_raport = RaportGenerator(f'{pengetahuan_path}/{class_name}.csv', peng_cols)\n",
    "peng_raport.save_as_csv(f'{pengetahuan_path} {class_name}')\n",
    "ket_raport = RaportGenerator(f'{keterampilan_path}/{class_name}.csv', ket_cols)\n",
    "ket_raport.save_as_csv(f'{keterampilan_path} {class_name}')"
   ]
  },
  {
   "cell_type": "markdown",
   "metadata": {},
   "source": [
    "## XII IPS 3"
   ]
  },
  {
   "cell_type": "code",
   "execution_count": 5,
   "metadata": {},
   "outputs": [],
   "source": [
    "class_name = 'XII IPS 3'  # Ubah - ubah aja variabel ini sesuai nama kelas nya (Dengan asumsi nama file nya juga sesuai, misal: XI MIPA 1.csv)\n",
    "peng_cols = 4\n",
    "ket_cols = 3\n",
    "\n",
    "peng_raport = RaportGenerator(f'{pengetahuan_path}/{class_name}.csv', peng_cols)\n",
    "peng_raport.save_as_csv(f'{pengetahuan_path} {class_name}')\n",
    "ket_raport = RaportGenerator(f'{keterampilan_path}/{class_name}.csv', ket_cols)\n",
    "ket_raport.save_as_csv(f'{keterampilan_path} {class_name}')"
   ]
  },
  {
   "cell_type": "code",
   "execution_count": null,
   "metadata": {},
   "outputs": [],
   "source": []
  }
 ],
 "metadata": {
  "interpreter": {
   "hash": "e7370f93d1d0cde622a1f8e1c04877d8463912d04d973331ad4851f04de6915a"
  },
  "kernelspec": {
   "display_name": "Python 3.9.9 64-bit",
   "language": "python",
   "name": "python3"
  },
  "language_info": {
   "codemirror_mode": {
    "name": "ipython",
    "version": 3
   },
   "file_extension": ".py",
   "mimetype": "text/x-python",
   "name": "python",
   "nbconvert_exporter": "python",
   "pygments_lexer": "ipython3",
   "version": "3.10.4"
  },
  "orig_nbformat": 4
 },
 "nbformat": 4,
 "nbformat_minor": 2
}
